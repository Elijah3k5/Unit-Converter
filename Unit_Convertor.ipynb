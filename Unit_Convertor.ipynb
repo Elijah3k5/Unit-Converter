{
  "cells": [
    {
      "cell_type": "markdown",
      "metadata": {
        "id": "view-in-github",
        "colab_type": "text"
      },
      "source": [
        "<a href=\"https://colab.research.google.com/github/Elijah3k5/Unit-Converter/blob/main/Unit_Convertor.ipynb\" target=\"_parent\"><img src=\"https://colab.research.google.com/assets/colab-badge.svg\" alt=\"Open In Colab\"/></a>"
      ]
    },
    {
      "cell_type": "markdown",
      "metadata": {
        "id": "CZkbBgWxp8HJ"
      },
      "source": [
        "# Unit Converter\n",
        "Build a basic unit converter that\n",
        "*   Takes input in Celcius to output in Fahrenheit\n",
        "*   Allows multiple conversions (e.g., km to miles, seconds to hours)\n",
        "*   Uses conditionals and loops"
      ]
    },
    {
      "cell_type": "code",
      "source": [
        "# Title and Description\n",
        "title = \"** Unit Converter **\"\n",
        "description = \"\"\"\n",
        "Available conversions:\n",
        "  Conversions of temperature between °C, °F and K,\n",
        "  Conversions of length between cm, inch, m, km, mile,\n",
        "  Conversions of mass between g, kg and lb,\n",
        "  Conversions of time between s, min and hr.\"\"\""
      ],
      "metadata": {
        "id": "IVKLmsluFaJD"
      },
      "execution_count": null,
      "outputs": []
    },
    {
      "cell_type": "code",
      "source": [
        "# Available conversions\n",
        "available_conversions = {\n",
        "    'temperature': ['°C', '°F', 'K'],\n",
        "    'length': ['cm', 'inch', 'm', 'km', 'mile'],\n",
        "    'mass': ['g', 'kg', 'lb'],\n",
        "    'time': ['s', 'min', 'hr']\n",
        "}"
      ],
      "metadata": {
        "id": "IqDRINmpNPIf"
      },
      "execution_count": null,
      "outputs": []
    },
    {
      "cell_type": "code",
      "source": [
        "# Prompts\n",
        "prompt = \"\\nConvert [value unit1 to unit2] (Type 'quit' to exit program):\\n\""
      ],
      "metadata": {
        "id": "qUI6iDKMNYAt"
      },
      "execution_count": null,
      "outputs": []
    },
    {
      "cell_type": "code",
      "source": [
        "# Errors\n",
        "invalid_conversion = \"Please prompt a valid conversion!\"\n",
        "format_error = \"Please follow the format in example!\"\n",
        "unavailable_conversion = \"Please refer to description for available conversions!\""
      ],
      "metadata": {
        "id": "zhQOeVqvNbGO"
      },
      "execution_count": null,
      "outputs": []
    },
    {
      "cell_type": "code",
      "source": [
        "# Overall convert function\n",
        "def convert(iv, cf, ct):\n",
        "  fv = None\n",
        "  if cf in available_conversions['temperature']:\n",
        "    fv = convert_temperature(iv, cf, ct)\n",
        "  elif cf in available_conversions['length']:\n",
        "    fv = convert_length(iv, cf, ct)\n",
        "  elif cf in available_conversions['mass']:\n",
        "    fv = convert_mass(iv, cf, ct)\n",
        "  elif cf in available_conversions['time']:\n",
        "    fv = convert_time(iv, cf, ct)\n",
        "  else:\n",
        "    print(unavailable_conversion)\n",
        "  return fv"
      ],
      "metadata": {
        "id": "8XCSW4JHJ7XO"
      },
      "execution_count": null,
      "outputs": []
    },
    {
      "cell_type": "code",
      "source": [
        "# Convert temperature\n",
        "def convert_temperature(iv, cf, ct):\n",
        "  fv = None\n",
        "\n",
        "  # Convert °C to °F and K\n",
        "  if cf == '°C':\n",
        "    if ct == '°F':\n",
        "      fv = (iv * 9/5) + 32\n",
        "    elif ct == 'K':\n",
        "      fv = iv + 273.15\n",
        "    elif ct == '°C':\n",
        "      print(invalid_conversion)\n",
        "    else:\n",
        "      print(unavailable_conversion)\n",
        "\n",
        "  # Convert °F to °C and K\n",
        "  elif cf == '°F':\n",
        "    if ct == '°C':\n",
        "      fv = (iv - 32) * 5/9\n",
        "    elif ct == 'K':\n",
        "      fv = (iv - 32) * 5/9 + 273.15\n",
        "    elif ct == '°F':\n",
        "      print(invalid_conversion)\n",
        "    else:\n",
        "      print(unavailable_conversion)\n",
        "\n",
        "  # Convert K to °C and °F\n",
        "  elif cf == 'K':\n",
        "    if ct == '°C':\n",
        "      fv = iv - 273.15\n",
        "    elif ct == '°F':\n",
        "      fv = (iv - 273.15) * 9/5 + 32\n",
        "    elif ct == 'K':\n",
        "      print(invalid_conversion)\n",
        "    else:\n",
        "      print(unavailable_conversion)\n",
        "\n",
        "  return fv"
      ],
      "metadata": {
        "id": "PNfdgzJDMQf2"
      },
      "execution_count": null,
      "outputs": []
    },
    {
      "cell_type": "code",
      "source": [
        "def convert_length(iv, cf, ct):\n",
        "  fv = None\n",
        "\n",
        "  # Convert cm to inch, m, km and mile\n",
        "  if cf == 'cm':\n",
        "    if ct == 'inch':\n",
        "      fv = iv / 2.54\n",
        "    elif ct == 'm':\n",
        "      fv = iv / 100\n",
        "    elif ct == 'km':\n",
        "      fv = iv / 100000\n",
        "    elif ct == 'mile':\n",
        "      fv = iv / 160934\n",
        "    elif ct == 'cm':\n",
        "      print(invalid_conversion)\n",
        "    else:\n",
        "      print(unavailable_conversion)\n",
        "\n",
        "  # Convert inch to cm, m, km and mile\n",
        "  elif cf == 'inch':\n",
        "    if ct == 'cm':\n",
        "      fv = iv * 2.54\n",
        "    elif ct == 'm':\n",
        "      fv = iv / 39.37\n",
        "    elif ct == 'km':\n",
        "      fv = iv / 39370\n",
        "    elif ct == 'mile':\n",
        "      fv = iv / 63360\n",
        "    elif ct == 'inch':\n",
        "      print(invalid_conversion)\n",
        "    else:\n",
        "      print(unavailable_conversion)\n",
        "\n",
        "  # Convert m to cm, inch, km and mile\n",
        "  elif cf == 'm':\n",
        "    if ct == 'cm':\n",
        "      fv = iv * 100\n",
        "    elif ct == 'inch':\n",
        "      fv = iv * 39.37\n",
        "    elif ct == 'km':\n",
        "      fv = iv / 1000\n",
        "    elif ct == 'mile':\n",
        "      fv = iv / 1609\n",
        "    elif ct == 'm':\n",
        "      print(invalid_conversion)\n",
        "    else:\n",
        "      print(unavailable_conversion)\n",
        "\n",
        "  # Convert km to cm, inch, m and mile\n",
        "  elif cf == 'km':\n",
        "    if ct == 'cm':\n",
        "      fv = iv * 100000\n",
        "    elif ct == 'inch':\n",
        "      fv = iv * 39370\n",
        "    elif ct == 'm':\n",
        "      fv = iv * 1000\n",
        "    elif ct == 'mile':\n",
        "      fv = iv / 1.609\n",
        "    elif ct == 'km':\n",
        "      print(invalid_conversion)\n",
        "    else:\n",
        "      print(unavailable_conversion)\n",
        "\n",
        "  # Convert mile to cm, inch, m and km\n",
        "  elif cf == 'mile':\n",
        "    if ct == 'cm':\n",
        "      fv = iv * 160900\n",
        "    elif ct == 'inch':\n",
        "      fv = iv * 63360\n",
        "    elif ct == 'm':\n",
        "      fv = iv * 1609\n",
        "    elif ct == 'km':\n",
        "      fv = iv * 1.609\n",
        "    elif ct == 'mile':\n",
        "      print(invalid_conversion)\n",
        "    else:\n",
        "      print(unavailable_conversion)\n",
        "\n",
        "  return fv"
      ],
      "metadata": {
        "id": "eeRhQoOkOYW7"
      },
      "execution_count": null,
      "outputs": []
    },
    {
      "cell_type": "code",
      "source": [
        "def convert_mass(iv, cf, ct):\n",
        "  fv = None\n",
        "\n",
        "  # Convert g to kg and lb\n",
        "  if cf == 'g':\n",
        "    if ct == 'kg':\n",
        "      fv = iv / 1000\n",
        "    elif ct == 'lb':\n",
        "      fv = iv / 453.6\n",
        "    elif ct == 'g':\n",
        "      print(invalid_conversion)\n",
        "    else:\n",
        "      print(unavailable_conversion)\n",
        "\n",
        "  # Convert kg to g and lb\n",
        "  elif cf == 'kg':\n",
        "    if ct == 'g':\n",
        "      fv = iv * 1000\n",
        "    elif ct == 'lb':\n",
        "      fv = iv * 2.205\n",
        "    elif ct == 'kg':\n",
        "      print(invalid_conversion)\n",
        "    else:\n",
        "      print(unavailable_conversion)\n",
        "\n",
        "  # Convert lb to g and kg\n",
        "  elif cf == 'lb':\n",
        "    if ct == 'g':\n",
        "      fv = iv * 453.6\n",
        "    elif ct == 'kg':\n",
        "      fv = iv / 2.205\n",
        "    elif ct == 'lb':\n",
        "      print(invalid_conversion)\n",
        "    else:\n",
        "      print(unavailable_conversion)\n",
        "\n",
        "  return fv"
      ],
      "metadata": {
        "id": "Hz4rI2HkSBbX"
      },
      "execution_count": null,
      "outputs": []
    },
    {
      "cell_type": "code",
      "source": [
        "def convert_time(iv, cf, ct):\n",
        "  fv = None\n",
        "\n",
        "  # Convert s to min and hr\n",
        "  if cf == 's':\n",
        "    if ct == 'min':\n",
        "      fv = iv / 60\n",
        "    elif ct == 'hr':\n",
        "      fv = iv / 3600\n",
        "    elif ct == 's':\n",
        "      print(invalid_conversion)\n",
        "    else:\n",
        "      print(unavailable_conversion)\n",
        "\n",
        "  # Convert min to s and hr\n",
        "  elif cf == 'min':\n",
        "    if ct == 's':\n",
        "      fv = iv * 60\n",
        "    elif ct == 'hr':\n",
        "      fv = iv / 60\n",
        "    elif ct == 'min':\n",
        "      print(invalid_conversion)\n",
        "    else:\n",
        "      print(unavailable_conversion)\n",
        "\n",
        "  # Convert hr to s and min\n",
        "  elif cf == 'hr':\n",
        "    if ct == 's':\n",
        "      fv = iv * 3600\n",
        "    elif ct == 'min':\n",
        "      fv = iv * 60\n",
        "    elif ct == 'hr':\n",
        "      print(invalid_conversion)\n",
        "    else:\n",
        "      print(unavailable_conversion)\n",
        "\n",
        "  return fv"
      ],
      "metadata": {
        "id": "RuHVGOOjStHV"
      },
      "execution_count": null,
      "outputs": []
    },
    {
      "cell_type": "code",
      "source": [
        "# Program\n",
        "print(title)\n",
        "print(description)\n",
        "\n",
        "conversion = True\n",
        "while conversion:\n",
        "  try:\n",
        "    user = input(prompt)\n",
        "    if user.lower() == 'quit':\n",
        "      conversion = False\n",
        "    else:\n",
        "      iv, cf, to, ct = user.split()\n",
        "      iv = float(iv)\n",
        "      fv = convert(iv, cf, ct)\n",
        "      if fv != None:\n",
        "        print(f\"{iv} {cf} is {fv} {ct}\")\n",
        "  except ValueError:\n",
        "    print(format_error)"
      ],
      "metadata": {
        "id": "PtgADV6bEDNI",
        "colab": {
          "base_uri": "https://localhost:8080/"
        },
        "outputId": "184b5e22-637d-4333-8085-01d43cad8667"
      },
      "execution_count": null,
      "outputs": [
        {
          "name": "stdout",
          "output_type": "stream",
          "text": [
            "** Unit Converter **\n",
            "\n",
            "Available conversions:\n",
            "  Conversions of temperature between °C, °F and K,\n",
            "  Conversions of length between cm, inch, m, km, mile,\n",
            "  Conversions of mass between g, kg and lb,\n",
            "  Conversions of time between s, min and hr.\n",
            "\n",
            "Convert [value unit1 to unit2] (Type 'quit' to exit program):\n",
            "quit\n"
          ]
        }
      ]
    }
  ],
  "metadata": {
    "colab": {
      "provenance": [],
      "authorship_tag": "ABX9TyNKJbFfJUrwqkFlLazPX64J",
      "include_colab_link": true
    },
    "kernelspec": {
      "display_name": "Python 3",
      "name": "python3"
    },
    "language_info": {
      "name": "python"
    }
  },
  "nbformat": 4,
  "nbformat_minor": 0
}